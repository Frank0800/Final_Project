{
 "cells": [
  {
   "cell_type": "code",
   "execution_count": 14,
   "metadata": {},
   "outputs": [],
   "source": [
    "# 導入模組\n",
    "import pandas as pd\n",
    "import numpy as np\n",
    "import json\n",
    "import math\n",
    "\n",
    "from flask import Flask, request, abort\n",
    "\n",
    "from flask_ngrok import run_with_ngrok\n",
    "\n",
    "from linebot import (\n",
    "    LineBotApi, WebhookHandler\n",
    ")\n",
    "from linebot.exceptions import (\n",
    "    InvalidSignatureError\n",
    ")\n",
    "from linebot.models import (\n",
    "    MessageEvent, TextMessage, TextSendMessage,\n",
    ")\n"
   ]
  },
  {
   "cell_type": "code",
   "execution_count": 15,
   "metadata": {},
   "outputs": [],
   "source": [
    "app = Flask(__name__, static_url_path = \"/material\" , static_folder = \"./material/\")\n",
    "run_with_ngrok(app)\n",
    "\n",
    "line_bot_api = LineBotApi(\"4zAj0CZfakjEn86lQkcWWoS6QtzsZxlnDKKWRJrlF2KbzzQUFdDAILa+V0W+zxz+uvA4k8n0+rZCI+tjB8/G5cI03/lJKDRsd+HnAaXKGwJon4zyt9X08nhrPflSoWFoKEZFfndot6SGkiPGI4G9iwdB04t89/1O/w1cDnyilFU=\")\n",
    "handler = WebhookHandler(\"bdd1c3f1804aefb0d02a68fb42b4a342\")"
   ]
  },
  {
   "cell_type": "code",
   "execution_count": 16,
   "metadata": {},
   "outputs": [],
   "source": [
    "df = pd.read_csv('/Users/franklin/Desktop/Final_Project/new_all_data.csv')"
   ]
  },
  {
   "cell_type": "code",
   "execution_count": 17,
   "metadata": {},
   "outputs": [],
   "source": [
    "@app.route(\"/\", methods=['POST'])\n",
    "\n",
    "def callback():\n",
    "    \n",
    "    # get X-Line-Signature header value\n",
    "    signature = request.headers['X-Line-Signature']\n",
    "\n",
    "    # get request body as text\n",
    "    body = request.get_data(as_text=True)\n",
    "    print(body)\n",
    "    \n",
    "    # 記錄用戶log\n",
    "    f = open(\"/Users/franklin/Desktop/Final_Project/bot_event.txt\", \"a\")\n",
    "    f.write(body)\n",
    "    f.close()\n",
    "\n",
    "    # handle webhook body\n",
    "    try:\n",
    "        handler.handle(body, signature)\n",
    "    except InvalidSignatureError:\n",
    "        abort(400)\n",
    "\n",
    "    return 'OK'"
   ]
  },
  {
   "cell_type": "code",
   "execution_count": 18,
   "metadata": {},
   "outputs": [],
   "source": [
    "from linebot.models import (\n",
    "    MessageAction, URIAction,\n",
    "    PostbackAction, DatetimePickerAction,\n",
    "    CameraAction, CameraRollAction, LocationAction,\n",
    "    QuickReply, QuickReplyButton, TextSendMessage\n",
    ")\n",
    "\n",
    "# 創建QuickReplyButton \n",
    "## 點擊後，跳出地理位置\n",
    "locationQRB = QuickReplyButton(\n",
    "    action=LocationAction(label=\"地理位置\")\n",
    ")\n",
    "## 設計QuickReplyButton的List\n",
    "quickReplyList = QuickReply(\n",
    "    items = [locationQRB]\n",
    ")\n",
    "## 將quickReplyList 塞入TextSendMessage 中 \n",
    "quick_reply_text_send_message = TextSendMessage(text='請提供您的位置資訊:', quick_reply=quickReplyList)"
   ]
  },
  {
   "cell_type": "code",
   "execution_count": 19,
   "metadata": {},
   "outputs": [],
   "source": [
    "from linebot.models import (\n",
    "    MessageEvent, TextMessage, TextSendMessage, ImageSendMessage, LocationMessage\n",
    ")\n",
    "\n",
    "# 根據自定義菜單四張故事線的圖，設定相對應image\n",
    "template_message_dict = {\n",
    "  \"@現居地評分\":quick_reply_text_send_message,\n",
    "  \"@我要找機能\":quick_reply_text_send_message,\n",
    "  \"@more\":\"hello\",\n",
    "}"
   ]
  },
  {
   "cell_type": "code",
   "execution_count": 20,
   "metadata": {},
   "outputs": [],
   "source": [
    "from linebot.models.events import (\n",
    "    FollowEvent\n",
    ")\n",
    "from linebot.models import(\n",
    "    TextSendMessage, ImageSendMessage\n",
    ")\n",
    "import requests\n",
    "\n",
    "# 告知handler，如果收到FollowEvent，則做下面的方法處理\n",
    "@handler.add(FollowEvent)\n",
    "def reply_text_and_get_user_profile(event):\n",
    "    \n",
    "    # 取出消息內User的資料\n",
    "    user_profile = line_bot_api.get_profile(event.source.user_id)\n",
    "        \n",
    "     # 將用戶資訊存在檔案內\n",
    "    with open(\"/Users/franklin/Desktop/Final_Project/log.txt\", \"a\") as myfile:\n",
    "        myfile.write(json.dumps(vars(user_profile),sort_keys=True))\n",
    "        myfile.write('\\n')\n",
    "    \n",
    "    # 回覆文字消息與圖片消息(歡迎詞)\n",
    "    line_bot_api.reply_message(\n",
    "        event.reply_token,\n",
    "        [TextSendMessage('本系統將為您提供生活機能評分功能,無論您是上班族/小家庭/銀髮族...,可以透過本系統查看居住環境的周遭機能,請透過下方圖文選單點選功能')]\n",
    "    )"
   ]
  },
  {
   "cell_type": "code",
   "execution_count": 21,
   "metadata": {},
   "outputs": [],
   "source": [
    "# 用戶發出文字消息時， 按條件內容, 回傳文字消息\n",
    "@handler.add(MessageEvent, message=TextMessage)\n",
    "def handle_message(event):\n",
    "\n",
    "    if '@' in event.message.text:\n",
    "      line_bot_api.reply_message(\n",
    "      event.reply_token,\n",
    "      template_message_dict.get(event.message.text)\n",
    "      )\n",
    "    elif '你選了' in event.message.text:\n",
    "      line_bot_api.reply_message(\n",
    "      event.reply_token,\n",
    "      TextSendMessage(text=\"測試\")\n",
    "      )\n",
    "    else:\n",
    "      line_bot_api.reply_message(\n",
    "      event.reply_token,\n",
    "      TextSendMessage(text=\"查無此關鍵字，請透過圖文選單點選功能進行使用\")\n",
    "      )\n"
   ]
  },
  {
   "cell_type": "code",
   "execution_count": 22,
   "metadata": {},
   "outputs": [],
   "source": [
    "def Distance(B,user_lati,user_longi):\n",
    "  # B -> [25.123, 121.123]\n",
    "  \n",
    "  [a, b] = user_lati,user_longi\n",
    "  [c, d] = eval(B)\n",
    "  \n",
    "  import math\n",
    "\n",
    "  R = 6373.0  # radius of the Earth\n",
    "\n",
    "  # coordinates\n",
    "  lat1 = math.radians(a)\n",
    "  lon1 = math.radians(b)\n",
    "  lat2 = math.radians(c)\n",
    "  lon2 = math.radians(d)\n",
    "\n",
    "  # change in coordinates\n",
    "  dlon = lon2 - lon1\n",
    "  dlat = lat2 - lat1\n",
    "\n",
    "  # Haversine formula\n",
    "  a = math.sin(dlat / 2)**2 + math.cos(lat1) * math.cos(lat2) * math.sin(dlon / 2) ** 2\n",
    "  c = 2 * math.asin(math.sqrt(a))\n",
    "  distance = R * c\n",
    "\n",
    "  return distance"
   ]
  },
  {
   "cell_type": "code",
   "execution_count": 23,
   "metadata": {},
   "outputs": [],
   "source": [
    "def surroundings(User):\n",
    "  sur = User[User['distance'] <= 1]\n",
    "  sur[\"adj_score\"] = sur[\"rating\"]*sur[\"senti_score\"]\n",
    "  uniq = []\n",
    "  all_type = []\n",
    "  for i in sur['types']:\n",
    "    all_type.extend(eval(i))\n",
    "  uniq = sorted(list(zip(set(all_type), list(all_type.count(j) for j in set(all_type)))), key= lambda x: x[-1], reverse=True)\n",
    "  return \"加權評分: \"+round(sur[\"adj_score\"].mean(),3)+\" (googles評分*SnowNLP分數)/n\"+str(uniq[:5])"
   ]
  },
  {
   "cell_type": "code",
   "execution_count": 24,
   "metadata": {},
   "outputs": [],
   "source": [
    "@handler.add(MessageEvent, message=LocationMessage)\n",
    "def handle_message(event):\n",
    "  print(event.message)\n",
    "  print(type(event.message))\n",
    "  loca = event.message\n",
    "\n",
    "  user_lati = loca.latitude\n",
    "  user_longi = loca.longitude\n",
    "  user_add = loca.address\n",
    "  user_id = loca.id\n",
    "  print(user_lati , user_longi , user_add , user_id)\n",
    "  # print(Distance(B,user_lati,user_longi))\n",
    "  \n",
    "  df['distance'] = df['location'].apply(lambda x : Distance(x,user_lati,user_longi))\n",
    "  User = df.sort_values(by=['distance']).reset_index(drop=True)\n",
    "  print(surroundings(User))\n",
    "  \n",
    "  line_bot_api.reply_message(\n",
    "        event.reply_token,\n",
    "        TextSendMessage(text=surroundings(User))\n",
    "    )\n"
   ]
  },
  {
   "cell_type": "code",
   "execution_count": 25,
   "metadata": {},
   "outputs": [],
   "source": [
    "from linebot.models import(\n",
    "    MessageEvent,ImageMessage, TextSendMessage\n",
    ")\n",
    "\n",
    "@handler.add(MessageEvent, message=ImageMessage)\n",
    "def handle_message(event):\n",
    "    line_bot_api.reply_message(\n",
    "        event.reply_token,\n",
    "        TextSendMessage(text='Image has Upload'+ ' ' + event.message.id))\n",
    "    message_content = line_bot_api.get_message_content(event.message.id)\n",
    "    with open(event.message.id+'.jpg', 'wb') as fd:\n",
    "        for chunk in message_content.iter_content():\n",
    "            fd.write(chunk)"
   ]
  },
  {
   "cell_type": "code",
   "execution_count": null,
   "metadata": {
    "pycharm": {
     "is_executing": true
    }
   },
   "outputs": [
    {
     "name": "stdout",
     "output_type": "stream",
     "text": [
      " * Serving Flask app '__main__' (lazy loading)\n",
      " * Environment: production\n",
      "\u001B[31m   WARNING: This is a development server. Do not use it in a production deployment.\u001B[0m\n",
      "\u001B[2m   Use a production WSGI server instead.\u001B[0m\n",
      " * Debug mode: off\n"
     ]
    },
    {
     "name": "stderr",
     "output_type": "stream",
     "text": [
      " * Running on http://127.0.0.1:5000/ (Press CTRL+C to quit)\n",
      "Exception in thread Thread-5:\n",
      "Traceback (most recent call last):\n",
      "  File \"/usr/local/Cellar/python/3.7.5/Frameworks/Python.framework/Versions/3.7/lib/python3.7/threading.py\", line 926, in _bootstrap_inner\n",
      "    self.run()\n",
      "  File \"/usr/local/Cellar/python/3.7.5/Frameworks/Python.framework/Versions/3.7/lib/python3.7/threading.py\", line 1177, in run\n",
      "    self.function(*self.args, **self.kwargs)\n",
      "  File \"/usr/local/lib/python3.7/site-packages/flask_ngrok.py\", line 70, in start_ngrok\n",
      "    ngrok_address = _run_ngrok()\n",
      "  File \"/usr/local/lib/python3.7/site-packages/flask_ngrok.py\", line 31, in _run_ngrok\n",
      "    ngrok = subprocess.Popen([executable, 'http', '5000'])\n",
      "  File \"/usr/local/Cellar/python/3.7.5/Frameworks/Python.framework/Versions/3.7/lib/python3.7/subprocess.py\", line 800, in __init__\n",
      "    restore_signals, start_new_session)\n",
      "  File \"/usr/local/Cellar/python/3.7.5/Frameworks/Python.framework/Versions/3.7/lib/python3.7/subprocess.py\", line 1551, in _execute_child\n",
      "    raise child_exception_type(errno_num, err_msg, err_filename)\n",
      "PermissionError: [Errno 13] Permission denied: '/var/folders/w2/4l1s48m54kb03b846wzm_33h0000gn/T/ngrok/ngrok'\n",
      "\n"
     ]
    }
   ],
   "source": [
    "app.run()"
   ]
  },
  {
   "cell_type": "code",
   "execution_count": null,
   "metadata": {
    "pycharm": {
     "is_executing": true
    }
   },
   "outputs": [],
   "source": []
  }
 ],
 "metadata": {
  "kernelspec": {
   "display_name": "Python 3",
   "language": "python",
   "name": "python3"
  },
  "language_info": {
   "codemirror_mode": {
    "name": "ipython",
    "version": 3
   },
   "file_extension": ".py",
   "mimetype": "text/x-python",
   "name": "python",
   "nbconvert_exporter": "python",
   "pygments_lexer": "ipython3",
   "version": "3.7.5"
  }
 },
 "nbformat": 4,
 "nbformat_minor": 4
}