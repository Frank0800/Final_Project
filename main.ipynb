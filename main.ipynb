{
  "cells": [
    {
      "cell_type": "code",
      "source": [
        "# !pip install flask_ngrok\n",
        "# !pip install line-bot-sdk"
      ],
      "metadata": {
        "id": "qAzGDjQt9QGm"
      },
      "execution_count": 40,
      "outputs": []
    },
    {
      "cell_type": "code",
      "source": [
        "from google.colab import drive\n",
        "drive.mount('/content/drive')"
      ],
      "metadata": {
        "id": "KiRBCgdU9QkV",
        "outputId": "1949f22a-6fcf-4574-9eb8-d49883435bce",
        "colab": {
          "base_uri": "https://localhost:8080/"
        }
      },
      "execution_count": 41,
      "outputs": [
        {
          "output_type": "stream",
          "name": "stdout",
          "text": [
            "Drive already mounted at /content/drive; to attempt to forcibly remount, call drive.mount(\"/content/drive\", force_remount=True).\n"
          ]
        }
      ]
    },
    {
      "cell_type": "code",
      "execution_count": 42,
      "metadata": {
        "id": "PnnHY8Q89L1A"
      },
      "outputs": [],
      "source": [
        "# 導入模組\n",
        "import pandas as pd\n",
        "import numpy as np\n",
        "import json\n",
        "import math\n",
        "\n",
        "from flask import Flask, request, abort\n",
        "\n",
        "from flask_ngrok import run_with_ngrok\n",
        "\n",
        "from linebot import (\n",
        "    LineBotApi, WebhookHandler\n",
        ")\n",
        "from linebot.exceptions import (\n",
        "    InvalidSignatureError\n",
        ")\n",
        "from linebot.models import (\n",
        "    MessageEvent, TextMessage, TextSendMessage,\n",
        ")\n"
      ]
    },
    {
      "cell_type": "code",
      "execution_count": 43,
      "metadata": {
        "id": "H2z2Zz2r9L1D"
      },
      "outputs": [],
      "source": [
        "app = Flask(__name__, static_url_path = \"/material\" , static_folder = \"./material/\")\n",
        "run_with_ngrok(app)\n",
        "\n",
        "line_bot_api = LineBotApi(\"4zAj0CZfakjEn86lQkcWWoS6QtzsZxlnDKKWRJrlF2KbzzQUFdDAILa+V0W+zxz+uvA4k8n0+rZCI+tjB8/G5cI03/lJKDRsd+HnAaXKGwJon4zyt9X08nhrPflSoWFoKEZFfndot6SGkiPGI4G9iwdB04t89/1O/w1cDnyilFU=\")\n",
        "handler = WebhookHandler(\"bdd1c3f1804aefb0d02a68fb42b4a342\")"
      ]
    },
    {
      "cell_type": "code",
      "execution_count": 44,
      "metadata": {
        "id": "rhJ6CArn9L1E"
      },
      "outputs": [],
      "source": [
        "df = pd.read_csv('/content/drive/MyDrive/project/new_all_data.csv')"
      ]
    },
    {
      "cell_type": "code",
      "execution_count": 45,
      "metadata": {
        "id": "aXB_I71T9L1E"
      },
      "outputs": [],
      "source": [
        "@app.route(\"/\", methods=['POST'])\n",
        "\n",
        "def callback():\n",
        "    \n",
        "    # get X-Line-Signature header value\n",
        "    signature = request.headers['X-Line-Signature']\n",
        "\n",
        "    # get request body as text\n",
        "    body = request.get_data(as_text=True)\n",
        "    print(body)\n",
        "    \n",
        "    # 記錄用戶log\n",
        "    f = open(\"/content/drive/MyDrive/project/ai-event.log\", \"a\")\n",
        "    f.write(body)\n",
        "    f.close()\n",
        "\n",
        "    # handle webhook body\n",
        "    try:\n",
        "        handler.handle(body, signature)\n",
        "    except InvalidSignatureError:\n",
        "        abort(400)\n",
        "\n",
        "    return 'OK'"
      ]
    },
    {
      "cell_type": "code",
      "execution_count": 46,
      "metadata": {
        "id": "Af3CgUad9L1F"
      },
      "outputs": [],
      "source": [
        "from linebot.models import (\n",
        "    MessageAction, URIAction,\n",
        "    PostbackAction, DatetimePickerAction,\n",
        "    CameraAction, CameraRollAction, LocationAction,\n",
        "    QuickReply, QuickReplyButton, TextSendMessage\n",
        ")\n",
        "\n",
        "# 創建QuickReplyButton \n",
        "## 點擊後，跳出地理位置\n",
        "locationQRB = QuickReplyButton(\n",
        "    action=LocationAction(label=\"地理位置\")\n",
        ")\n",
        "## 設計QuickReplyButton的List\n",
        "quickReplyList = QuickReply(\n",
        "    items = [locationQRB]\n",
        ")\n",
        "## 將quickReplyList 塞入TextSendMessage 中 \n",
        "quick_reply_text_send_message = TextSendMessage(text='請提供您的位置資訊:', quick_reply=quickReplyList)"
      ]
    },
    {
      "cell_type": "code",
      "execution_count": 47,
      "metadata": {
        "id": "vaEMxz9o9L1F"
      },
      "outputs": [],
      "source": [
        "from linebot.models import (\n",
        "    MessageEvent, TextMessage, TextSendMessage, ImageSendMessage, LocationMessage\n",
        ")\n",
        "\n",
        "# 根據自定義菜單四張故事線的圖，設定相對應image\n",
        "template_message_dict = {\n",
        "  \"@現居地評分\":quick_reply_text_send_message,\n",
        "  \"@我要找機能\":quick_reply_text_send_message,\n",
        "  \"@more\":\"hello\",\n",
        "}"
      ]
    },
    {
      "cell_type": "code",
      "execution_count": 48,
      "metadata": {
        "id": "WNUlrQ949L1G"
      },
      "outputs": [],
      "source": [
        "from linebot.models.events import (\n",
        "    FollowEvent\n",
        ")\n",
        "from linebot.models import(\n",
        "    TextSendMessage, ImageSendMessage\n",
        ")\n",
        "import requests\n",
        "\n",
        "# 告知handler，如果收到FollowEvent，則做下面的方法處理\n",
        "@handler.add(FollowEvent)\n",
        "def reply_text_and_get_user_profile(event):\n",
        "    \n",
        "    # 取出消息內User的資料\n",
        "    user_profile = line_bot_api.get_profile(event.source.user_id)\n",
        "        \n",
        "     # 將用戶資訊存在檔案內\n",
        "    with open(\"/content/drive/MyDrive/project/users.txt\", \"a\") as myfile:\n",
        "        myfile.write(json.dumps(vars(user_profile),sort_keys=True))\n",
        "        myfile.write('\\n')\n",
        "    \n",
        "    # 回覆文字消息與圖片消息(歡迎詞)\n",
        "    line_bot_api.reply_message(\n",
        "        event.reply_token,\n",
        "        [TextSendMessage('本系統將為您提供生活機能評分功能,無論您是上班族/小家庭/銀髮族...,可以透過本系統查看居住環境的周遭機能,請透過下方圖文選單點選功能')]\n",
        "    )"
      ]
    },
    {
      "cell_type": "code",
      "execution_count": 49,
      "metadata": {
        "id": "QcI4F7lR9L1H"
      },
      "outputs": [],
      "source": [
        "# 用戶發出文字消息時， 按條件內容, 回傳文字消息\n",
        "@handler.add(MessageEvent, message=TextMessage)\n",
        "def handle_message(event):\n",
        "\n",
        "    if '@' in event.message.text:\n",
        "      line_bot_api.reply_message(\n",
        "      event.reply_token,\n",
        "      template_message_dict.get(event.message.text)\n",
        "      )\n",
        "    elif '你選了' in event.message.text:\n",
        "      line_bot_api.reply_message(\n",
        "      event.reply_token,\n",
        "      TextSendMessage(text=\"測試\")\n",
        "      )\n",
        "    else:\n",
        "      line_bot_api.reply_message(\n",
        "      event.reply_token,\n",
        "      TextSendMessage(text=\"查無此關鍵字，請透過圖文選單點選功能進行使用\")\n",
        "      )\n"
      ]
    },
    {
      "cell_type": "code",
      "execution_count": 50,
      "metadata": {
        "id": "5F1mref79L1H"
      },
      "outputs": [],
      "source": [
        "def Distance(B,user_lati,user_longi):\n",
        "  # B -> [25.123, 121.123]\n",
        "  \n",
        "  [a, b] = user_lati,user_longi\n",
        "  [c, d] = eval(B)\n",
        "  \n",
        "  import math\n",
        "\n",
        "  R = 6373.0  # radius of the Earth\n",
        "\n",
        "  # coordinates\n",
        "  lat1 = math.radians(a)\n",
        "  lon1 = math.radians(b)\n",
        "  lat2 = math.radians(c)\n",
        "  lon2 = math.radians(d)\n",
        "\n",
        "  # change in coordinates\n",
        "  dlon = lon2 - lon1\n",
        "  dlat = lat2 - lat1\n",
        "\n",
        "  # Haversine formula\n",
        "  a = math.sin(dlat / 2)**2 + math.cos(lat1) * math.cos(lat2) * math.sin(dlon / 2) ** 2\n",
        "  c = 2 * math.asin(math.sqrt(a))\n",
        "  distance = R * c\n",
        "\n",
        "  return distance"
      ]
    },
    {
      "cell_type": "code",
      "execution_count": 51,
      "metadata": {
        "id": "IRzOE1gw9L1I"
      },
      "outputs": [],
      "source": [
        "def surroundings(User):\n",
        "  sur = User[User['distance'] <= 1]\n",
        "  sur[\"adj_score\"] = sur[\"rating\"]*sur[\"senti_score\"]\n",
        "  uniq = []\n",
        "  all_type = []\n",
        "  for i in sur['types']:\n",
        "    all_type.extend(eval(i))\n",
        "  uniq = sorted(list(zip(set(all_type), list(all_type.count(j) for j in set(all_type)))), key= lambda x: x[-1], reverse=True)\n",
        "  return \"加權評分: \" + str(round(sur[\"adj_score\"].mean(),3)) + \"(googles評分*SnowNLP分數)/n\" + str(uniq[:5])"
      ]
    },
    {
      "cell_type": "code",
      "execution_count": 52,
      "metadata": {
        "id": "aGCHh37u9L1J"
      },
      "outputs": [],
      "source": [
        "@handler.add(MessageEvent, message=LocationMessage)\n",
        "def handle_message(event):\n",
        "  print(event.message)\n",
        "  print(type(event.message))\n",
        "  loca = event.message\n",
        "\n",
        "  user_lati = loca.latitude\n",
        "  user_longi = loca.longitude\n",
        "  user_add = loca.address\n",
        "  user_id = loca.id\n",
        "  print(user_lati , user_longi , user_add , user_id)\n",
        "  # print(Distance(B,user_lati,user_longi))\n",
        "  \n",
        "  df['distance'] = df['location'].apply(lambda x : Distance(x,user_lati,user_longi))\n",
        "  User = df.sort_values(by=['distance']).reset_index(drop=True)\n",
        "  print(surroundings(User))\n",
        "  \n",
        "  line_bot_api.reply_message(\n",
        "        event.reply_token,\n",
        "        TextSendMessage(text=surroundings(User))\n",
        "    )\n"
      ]
    },
    {
      "cell_type": "code",
      "execution_count": 53,
      "metadata": {
        "id": "8TQBTOCt9L1K"
      },
      "outputs": [],
      "source": [
        "from linebot.models import(\n",
        "    MessageEvent,ImageMessage, TextSendMessage\n",
        ")\n",
        "\n",
        "@handler.add(MessageEvent, message=ImageMessage)\n",
        "def handle_message(event):\n",
        "    line_bot_api.reply_message(\n",
        "        event.reply_token,\n",
        "        TextSendMessage(text='Image has Upload'+ ' ' + event.message.id))\n",
        "    message_content = line_bot_api.get_message_content(event.message.id)\n",
        "    with open(event.message.id+'.jpg', 'wb') as fd:\n",
        "        for chunk in message_content.iter_content():\n",
        "            fd.write(chunk)"
      ]
    },
    {
      "cell_type": "code",
      "execution_count": null,
      "metadata": {
        "pycharm": {
          "is_executing": true
        },
        "id": "GG5eolx69L1L",
        "outputId": "e5303f94-54d7-4085-9e25-ab7fa2ce15a2",
        "colab": {
          "base_uri": "https://localhost:8080/"
        }
      },
      "outputs": [
        {
          "output_type": "stream",
          "name": "stdout",
          "text": [
            " * Serving Flask app \"__main__\" (lazy loading)\n",
            " * Environment: production\n",
            "\u001b[31m   WARNING: This is a development server. Do not use it in a production deployment.\u001b[0m\n",
            "\u001b[2m   Use a production WSGI server instead.\u001b[0m\n",
            " * Debug mode: off\n"
          ]
        },
        {
          "output_type": "stream",
          "name": "stderr",
          "text": [
            " * Running on http://127.0.0.1:5000/ (Press CTRL+C to quit)\n"
          ]
        },
        {
          "output_type": "stream",
          "name": "stdout",
          "text": [
            " * Running on http://7a7d-34-133-195-65.ngrok.io\n",
            " * Traffic stats available on http://127.0.0.1:4040\n"
          ]
        },
        {
          "output_type": "stream",
          "name": "stderr",
          "text": [
            "127.0.0.1 - - [19/Dec/2021 06:36:51] \"\u001b[31m\u001b[1mGET / HTTP/1.1\u001b[0m\" 405 -\n"
          ]
        },
        {
          "output_type": "stream",
          "name": "stdout",
          "text": [
            "{\"destination\":\"U768c4c8b55e6a636221175faaebfb542\",\"events\":[{\"type\":\"message\",\"message\":{\"type\":\"text\",\"id\":\"15272435642548\",\"text\":\"http://7a7d-34-133-195-65.ngrok.io\"},\"timestamp\":1639895811458,\"source\":{\"type\":\"user\",\"userId\":\"U4e2a7a5f8f50efc2c530c840de33fe18\"},\"replyToken\":\"bbff4b0c6a7f44d38f4e2164f3c71073\",\"mode\":\"active\"}]}\n"
          ]
        },
        {
          "output_type": "stream",
          "name": "stderr",
          "text": [
            "127.0.0.1 - - [19/Dec/2021 06:36:52] \"\u001b[37mPOST / HTTP/1.1\u001b[0m\" 200 -\n"
          ]
        },
        {
          "output_type": "stream",
          "name": "stdout",
          "text": [
            "{\"destination\":\"U768c4c8b55e6a636221175faaebfb542\",\"events\":[{\"type\":\"message\",\"message\":{\"type\":\"text\",\"id\":\"15272436743529\",\"text\":\"@現居地評分\"},\"timestamp\":1639895829116,\"source\":{\"type\":\"user\",\"userId\":\"U4e2a7a5f8f50efc2c530c840de33fe18\"},\"replyToken\":\"b4c121bc6b634fd2b02eadde6484f8d2\",\"mode\":\"active\"}]}\n"
          ]
        },
        {
          "output_type": "stream",
          "name": "stderr",
          "text": [
            "127.0.0.1 - - [19/Dec/2021 06:37:10] \"\u001b[37mPOST / HTTP/1.1\u001b[0m\" 200 -\n"
          ]
        },
        {
          "output_type": "stream",
          "name": "stdout",
          "text": [
            "{\"destination\":\"U768c4c8b55e6a636221175faaebfb542\",\"events\":[{\"type\":\"message\",\"message\":{\"type\":\"location\",\"id\":\"15272437253914\",\"latitude\":25.0205979168882,\"longitude\":121.31468565707048,\"address\":\"330台灣桃園市桃園區至善街227號\"},\"timestamp\":1639895837336,\"source\":{\"type\":\"user\",\"userId\":\"U4e2a7a5f8f50efc2c530c840de33fe18\"},\"replyToken\":\"0e28055db9df4d88842cfad97c9b1ba8\",\"mode\":\"active\"}]}\n",
            "{\"address\": \"330\\u53f0\\u7063\\u6843\\u5712\\u5e02\\u6843\\u5712\\u5340\\u81f3\\u5584\\u8857227\\u865f\", \"id\": \"15272437253914\", \"latitude\": 25.0205979168882, \"longitude\": 121.31468565707048, \"type\": \"location\"}\n",
            "<class 'linebot.models.messages.LocationMessage'>\n",
            "25.0205979168882 121.31468565707048 330台灣桃園市桃園區至善街227號 15272437253914\n",
            "加權評分: nan(googles評分*SnowNLP分數)/n[]\n"
          ]
        },
        {
          "output_type": "stream",
          "name": "stderr",
          "text": [
            "127.0.0.1 - - [19/Dec/2021 06:37:18] \"\u001b[37mPOST / HTTP/1.1\u001b[0m\" 200 -\n",
            "[2021-12-19 06:38:30,892] ERROR in app: Exception on / [POST]\n",
            "Traceback (most recent call last):\n",
            "  File \"/usr/local/lib/python3.7/dist-packages/flask/app.py\", line 2447, in wsgi_app\n",
            "    response = self.full_dispatch_request()\n",
            "  File \"/usr/local/lib/python3.7/dist-packages/flask/app.py\", line 1952, in full_dispatch_request\n",
            "    rv = self.handle_user_exception(e)\n",
            "  File \"/usr/local/lib/python3.7/dist-packages/flask/app.py\", line 1821, in handle_user_exception\n",
            "    reraise(exc_type, exc_value, tb)\n",
            "  File \"/usr/local/lib/python3.7/dist-packages/flask/_compat.py\", line 39, in reraise\n",
            "    raise value\n",
            "  File \"/usr/local/lib/python3.7/dist-packages/flask/app.py\", line 1950, in full_dispatch_request\n",
            "    rv = self.dispatch_request()\n",
            "  File \"/usr/local/lib/python3.7/dist-packages/flask/app.py\", line 1936, in dispatch_request\n",
            "    return self.view_functions[rule.endpoint](**req.view_args)\n",
            "  File \"<ipython-input-45-14b3b85ba0bf>\", line 19, in callback\n",
            "    handler.handle(body, signature)\n",
            "  File \"/usr/local/lib/python3.7/dist-packages/linebot/webhook.py\", line 259, in handle\n",
            "    self.__invoke_func(func, event, payload)\n",
            "  File \"/usr/local/lib/python3.7/dist-packages/linebot/webhook.py\", line 271, in __invoke_func\n",
            "    func(event)\n",
            "  File \"<ipython-input-49-32926714277f>\", line 8, in handle_message\n",
            "    template_message_dict.get(event.message.text)\n",
            "  File \"/usr/local/lib/python3.7/dist-packages/linebot/api.py\", line 105, in reply_message\n",
            "    'messages': [message.as_json_dict() for message in messages],\n",
            "  File \"/usr/local/lib/python3.7/dist-packages/linebot/api.py\", line 105, in <listcomp>\n",
            "    'messages': [message.as_json_dict() for message in messages],\n",
            "AttributeError: 'NoneType' object has no attribute 'as_json_dict'\n",
            "127.0.0.1 - - [19/Dec/2021 06:38:30] \"\u001b[35m\u001b[1mPOST / HTTP/1.1\u001b[0m\" 500 -\n"
          ]
        },
        {
          "output_type": "stream",
          "name": "stdout",
          "text": [
            "{\"destination\":\"U768c4c8b55e6a636221175faaebfb542\",\"events\":[{\"type\":\"message\",\"message\":{\"type\":\"text\",\"id\":\"15272441810119\",\"text\":\"@\"},\"timestamp\":1639895909836,\"source\":{\"type\":\"user\",\"userId\":\"U4e2a7a5f8f50efc2c530c840de33fe18\"},\"replyToken\":\"9a56e63b09604c5cbc5722832d51bf09\",\"mode\":\"active\"}]}\n"
          ]
        },
        {
          "output_type": "stream",
          "name": "stderr",
          "text": [
            "[2021-12-19 06:38:55,496] ERROR in app: Exception on / [POST]\n",
            "Traceback (most recent call last):\n",
            "  File \"/usr/local/lib/python3.7/dist-packages/flask/app.py\", line 2447, in wsgi_app\n",
            "    response = self.full_dispatch_request()\n",
            "  File \"/usr/local/lib/python3.7/dist-packages/flask/app.py\", line 1952, in full_dispatch_request\n",
            "    rv = self.handle_user_exception(e)\n",
            "  File \"/usr/local/lib/python3.7/dist-packages/flask/app.py\", line 1821, in handle_user_exception\n",
            "    reraise(exc_type, exc_value, tb)\n",
            "  File \"/usr/local/lib/python3.7/dist-packages/flask/_compat.py\", line 39, in reraise\n",
            "    raise value\n",
            "  File \"/usr/local/lib/python3.7/dist-packages/flask/app.py\", line 1950, in full_dispatch_request\n",
            "    rv = self.dispatch_request()\n",
            "  File \"/usr/local/lib/python3.7/dist-packages/flask/app.py\", line 1936, in dispatch_request\n",
            "    return self.view_functions[rule.endpoint](**req.view_args)\n",
            "  File \"<ipython-input-45-14b3b85ba0bf>\", line 19, in callback\n",
            "    handler.handle(body, signature)\n",
            "  File \"/usr/local/lib/python3.7/dist-packages/linebot/webhook.py\", line 259, in handle\n",
            "    self.__invoke_func(func, event, payload)\n",
            "  File \"/usr/local/lib/python3.7/dist-packages/linebot/webhook.py\", line 271, in __invoke_func\n",
            "    func(event)\n",
            "  File \"<ipython-input-49-32926714277f>\", line 8, in handle_message\n",
            "    template_message_dict.get(event.message.text)\n",
            "  File \"/usr/local/lib/python3.7/dist-packages/linebot/api.py\", line 105, in reply_message\n",
            "    'messages': [message.as_json_dict() for message in messages],\n",
            "  File \"/usr/local/lib/python3.7/dist-packages/linebot/api.py\", line 105, in <listcomp>\n",
            "    'messages': [message.as_json_dict() for message in messages],\n",
            "AttributeError: 'str' object has no attribute 'as_json_dict'\n",
            "127.0.0.1 - - [19/Dec/2021 06:38:55] \"\u001b[35m\u001b[1mPOST / HTTP/1.1\u001b[0m\" 500 -\n"
          ]
        },
        {
          "output_type": "stream",
          "name": "stdout",
          "text": [
            "{\"destination\":\"U768c4c8b55e6a636221175faaebfb542\",\"events\":[{\"type\":\"message\",\"message\":{\"type\":\"text\",\"id\":\"15272443363989\",\"text\":\"@more\"},\"timestamp\":1639895934685,\"source\":{\"type\":\"user\",\"userId\":\"U4e2a7a5f8f50efc2c530c840de33fe18\"},\"replyToken\":\"f866a589633442ffba5dc7da66ed5a0f\",\"mode\":\"active\"}]}\n",
            "{\"destination\":\"U768c4c8b55e6a636221175faaebfb542\",\"events\":[{\"type\":\"message\",\"message\":{\"type\":\"text\",\"id\":\"15272444441299\",\"text\":\"@現居地評分\"},\"timestamp\":1639895951915,\"source\":{\"type\":\"user\",\"userId\":\"U4e2a7a5f8f50efc2c530c840de33fe18\"},\"replyToken\":\"293b2ebbcdcf453d99adcac3bb491693\",\"mode\":\"active\"}]}\n"
          ]
        },
        {
          "output_type": "stream",
          "name": "stderr",
          "text": [
            "127.0.0.1 - - [19/Dec/2021 06:39:13] \"\u001b[37mPOST / HTTP/1.1\u001b[0m\" 200 -\n"
          ]
        },
        {
          "output_type": "stream",
          "name": "stdout",
          "text": [
            "{\"destination\":\"U768c4c8b55e6a636221175faaebfb542\",\"events\":[{\"type\":\"message\",\"message\":{\"type\":\"location\",\"id\":\"15272447451972\",\"latitude\":25.006339704790435,\"longitude\":121.30542632192373,\"address\":\"330台灣桃園市桃園區埔江街10號\"},\"timestamp\":1639896000095,\"source\":{\"type\":\"user\",\"userId\":\"U4e2a7a5f8f50efc2c530c840de33fe18\"},\"replyToken\":\"c367a1cfd77a4f49a9494d386600bd49\",\"mode\":\"active\"}]}\n",
            "{\"address\": \"330\\u53f0\\u7063\\u6843\\u5712\\u5e02\\u6843\\u5712\\u5340\\u57d4\\u6c5f\\u885710\\u865f\", \"id\": \"15272447451972\", \"latitude\": 25.006339704790435, \"longitude\": 121.30542632192373, \"type\": \"location\"}\n",
            "<class 'linebot.models.messages.LocationMessage'>\n",
            "25.006339704790435 121.30542632192373 330台灣桃園市桃園區埔江街10號 15272447451972\n",
            "加權評分: nan(googles評分*SnowNLP分數)/n[]\n"
          ]
        },
        {
          "output_type": "stream",
          "name": "stderr",
          "text": [
            "127.0.0.1 - - [19/Dec/2021 06:40:01] \"\u001b[37mPOST / HTTP/1.1\u001b[0m\" 200 -\n"
          ]
        }
      ],
      "source": [
        "app.run()"
      ]
    },
    {
      "cell_type": "code",
      "execution_count": null,
      "metadata": {
        "pycharm": {
          "is_executing": true
        },
        "id": "DXYFQoah9L1M"
      },
      "outputs": [],
      "source": [
        ""
      ]
    }
  ],
  "metadata": {
    "kernelspec": {
      "display_name": "Python 3",
      "language": "python",
      "name": "python3"
    },
    "language_info": {
      "codemirror_mode": {
        "name": "ipython",
        "version": 3
      },
      "file_extension": ".py",
      "mimetype": "text/x-python",
      "name": "python",
      "nbconvert_exporter": "python",
      "pygments_lexer": "ipython3",
      "version": "3.7.5"
    },
    "colab": {
      "name": "main.ipynb",
      "provenance": []
    }
  },
  "nbformat": 4,
  "nbformat_minor": 0
}